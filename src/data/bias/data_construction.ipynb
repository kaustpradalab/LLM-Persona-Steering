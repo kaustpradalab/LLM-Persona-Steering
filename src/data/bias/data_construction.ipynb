{
 "cells": [
  {
   "cell_type": "code",
   "execution_count": 1,
   "metadata": {},
   "outputs": [],
   "source": [
    "import pool\n",
    "\n",
    "# Generate sentences\n",
    "sentences = []\n",
    "\n",
    "for dim in pool.Demographic_Dim:\n",
    "    for category, mods in pool.modifiers.items():\n",
    "        for mod in mods:\n",
    "            for template in pool.template:\n",
    "                sentence = template.replace(\"[Demographic_Dimension]\", dim).replace(\"[Modifier]\", mod)\n",
    "                sentences.append(sentence.strip())\n",
    "\n",
    "# Write to a text file\n",
    "file_path = \"./combined_sentences.txt\"\n",
    "with open(file_path, \"w\") as file:\n",
    "    for sentence in sentences:\n",
    "        file.write(sentence + \"\\n\")"
   ]
  },
  {
   "cell_type": "code",
   "execution_count": 7,
   "metadata": {},
   "outputs": [],
   "source": [
    "file_path = \"./combined_sentences.txt\"\n",
    "\n",
    "with open(file_path, \"r\", encoding=\"utf-8\") as file:\n",
    "    data = file.readlines()\n",
    "data = [line.strip() for line in data]"
   ]
  },
  {
   "cell_type": "code",
   "execution_count": 8,
   "metadata": {},
   "outputs": [
    {
     "data": {
      "text/plain": [
       "'This lonely person belongs to the gender of'"
      ]
     },
     "execution_count": 8,
     "metadata": {},
     "output_type": "execute_result"
    }
   ],
   "source": [
    "data[1]"
   ]
  }
 ],
 "metadata": {
  "kernelspec": {
   "display_name": "Python 3",
   "language": "python",
   "name": "python3"
  },
  "language_info": {
   "codemirror_mode": {
    "name": "ipython",
    "version": 3
   },
   "file_extension": ".py",
   "mimetype": "text/x-python",
   "name": "python",
   "nbconvert_exporter": "python",
   "pygments_lexer": "ipython3",
   "version": "3.10.12"
  }
 },
 "nbformat": 4,
 "nbformat_minor": 2
}
