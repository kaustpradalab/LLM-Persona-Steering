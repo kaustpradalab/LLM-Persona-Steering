{
 "cells": [
  {
   "cell_type": "code",
   "execution_count": 1,
   "metadata": {},
   "outputs": [
    {
     "name": "stdout",
     "output_type": "stream",
     "text": [
      "Device: cuda\n"
     ]
    },
    {
     "name": "stderr",
     "output_type": "stream",
     "text": [
      "`config.hidden_act` is ignored, you should use `config.hidden_activation` instead.\n",
      "Gemma's activation function will be set to `gelu_pytorch_tanh`. Please, use\n",
      "`config.hidden_activation` if you want to override this behaviour.\n",
      "See https://github.com/huggingface/transformers/pull/29402 for more details.\n"
     ]
    },
    {
     "data": {
      "application/vnd.jupyter.widget-view+json": {
       "model_id": "c6c46e6202d54e00838387920261721d",
       "version_major": 2,
       "version_minor": 0
      },
      "text/plain": [
       "Loading checkpoint shards:   0%|          | 0/2 [00:00<?, ?it/s]"
      ]
     },
     "metadata": {},
     "output_type": "display_data"
    },
    {
     "name": "stderr",
     "output_type": "stream",
     "text": [
      "WARNING:root:You are not using LayerNorm, so the writing weights can't be centered! Skipping\n"
     ]
    },
    {
     "name": "stdout",
     "output_type": "stream",
     "text": [
      "Loaded pretrained model gemma-2b-it into HookedTransformer\n",
      "blocks.12.hook_resid_post\n"
     ]
    }
   ],
   "source": [
    "import sys\n",
    "sys.path.append('/root/llm-persona-superposition/llm-personal-superposition/src/steer_experiments')\n",
    "from SAE.Steering import *\n",
    "\n",
    "set_up()\n",
    "model_name = \"gemma-2b-it\"\n",
    "sae_name = \"gemma-2b-it-res-jb\"\n",
    "layer = 12\n",
    "model, sae, hook_point = load_model(model_name, sae_name, layer)"
   ]
  },
  {
   "cell_type": "code",
   "execution_count": 45,
   "metadata": {},
   "outputs": [],
   "source": [
    "def create_steering_hook(coeffs, steering_vectors, steering_on):\n",
    "    torch.set_grad_enabled(False)\n",
    "    def steering_hook(resid_pre, hook):\n",
    "        if resid_pre.shape[1] == 1:\n",
    "            return\n",
    "        position = resid_pre.shape[1]\n",
    "        if steering_on:\n",
    "            for steering_vector, coeff in zip(steering_vectors, coeffs):\n",
    "                resid_pre[:, :position - 1, :] += coeff * steering_vector\n",
    "    return steering_hook\n",
    "\n",
    "def hooked_generate(model, prompt, fwd_hooks=[], seed=None, **kwargs):\n",
    "    if seed is not None:\n",
    "        torch.manual_seed(seed)\n",
    "\n",
    "    with model.hooks(fwd_hooks=fwd_hooks):\n",
    "        tokenized = model.to_tokens(prompt)\n",
    "        result = model.generate(\n",
    "            stop_at_eos=False,  # avoids a bug on MPS\n",
    "            input=tokenized,\n",
    "            max_new_tokens=30,\n",
    "            do_sample=True,\n",
    "            **kwargs)\n",
    "    return result\n",
    "\n",
    "def run_generate(example_prompt, model, layer, coeff, steering_vector, steering_on, sampling_kwargs, seed=None):\n",
    "    model.reset_hooks()\n",
    "    steering_hook = create_steering_hook(coeff, steering_vector, steering_on)\n",
    "    editing_hooks = [(f\"blocks.{layer}.hook_resid_post\", steering_hook)]\n",
    "    res = hooked_generate(model, example_prompt, editing_hooks, seed=seed, **sampling_kwargs)\n",
    "    # Print results, removing the ugly beginning of sequence token\n",
    "    res_str = model.to_string(res[:, 1:])\n",
    "    print((\"\\n\\n\" + \"-\" * 80 + \"\\n\\n\").join(res_str))"
   ]
  },
  {
   "cell_type": "code",
   "execution_count": 21,
   "metadata": {},
   "outputs": [],
   "source": [
    "def create_steering_hook(coeffs, steering_vectors, steering_on):\n",
    "    torch.set_grad_enabled(False)\n",
    "    def steering_hook(resid_pre, hook):\n",
    "        if resid_pre.shape[1] == 1:\n",
    "            return\n",
    "        position = resid_pre.shape[1]\n",
    "        if steering_on:\n",
    "            for steering_vector, coeff in zip(steering_vectors, coeffs):\n",
    "                resid_pre[:, :position - 1, :] += coeff * steering_vector\n",
    "    return steering_hook\n",
    "\n",
    "def hooked_generate(model, prompt, fwd_hooks=[], seed=None, **kwargs):\n",
    "    if seed is not None:\n",
    "        torch.manual_seed(seed)\n",
    "    with model.hooks(fwd_hooks=fwd_hooks):\n",
    "        tokenized = model.to_tokens(prompt)\n",
    "        with torch.no_grad():\n",
    "            outputs = model(tokenized)\n",
    "        logits = outputs[:, -1, :]  # Logits for the last token\n",
    "        probabilities = torch.softmax(logits, dim=-1)\n",
    "    return probabilities\n",
    "\n",
    "def run_generate(example_prompt, model, layer, coeff, steering_vector, steering_on, sampling_kwargs, seed=None):\n",
    "    model.reset_hooks()\n",
    "    steering_hook = create_steering_hook(coeff, steering_vector, steering_on)\n",
    "    editing_hooks = [(f\"blocks.{layer}.hook_resid_post\", steering_hook)]\n",
    "    res = hooked_generate(model, example_prompt, editing_hooks, seed=seed, **sampling_kwargs)\n"
   ]
  },
  {
   "cell_type": "code",
   "execution_count": 8,
   "metadata": {},
   "outputs": [],
   "source": [
    "steering_vectors = [sae.W_dec[5361], sae.W_dec[4365]]\n",
    "coeff = [100, 100]\n",
    "question_prompt = \"give me only one random color and animal.\"\n",
    "sampling_kwargs = dict(temperature=0.2, freq_penalty=1.0)\n",
    "seed = 16"
   ]
  },
  {
   "cell_type": "code",
   "execution_count": 20,
   "metadata": {},
   "outputs": [
    {
     "name": "stdout",
     "output_type": "stream",
     "text": [
      "torch.Size([1, 256000])\n",
      "256000\n"
     ]
    }
   ],
   "source": [
    "steering_on = False\n",
    "run_generate(question_prompt, model, layer, coeff, steering_vectors, steering_on, sampling_kwargs,seed)"
   ]
  },
  {
   "cell_type": "code",
   "execution_count": 41,
   "metadata": {},
   "outputs": [
    {
     "data": {
      "application/vnd.jupyter.widget-view+json": {
       "model_id": "b56b3b2329364149b06ebe92fbaf4f54",
       "version_major": 2,
       "version_minor": 0
      },
      "text/plain": [
       "  0%|          | 0/30 [00:00<?, ?it/s]"
      ]
     },
     "metadata": {},
     "output_type": "display_data"
    },
    {
     "name": "stdout",
     "output_type": "stream",
     "text": [
      "give me only one random color and animal. Red and sheep are a classic combination, but I' Apple is not.<eos><eos>Red Apple is a classic combination, but Apple is not a Red\n"
     ]
    }
   ],
   "source": [
    "steering_on = True\n",
    "run_generate(question_prompt, model, layer, coeff, steering_vectors, steering_on, sampling_kwargs, seed)"
   ]
  }
 ],
 "metadata": {
  "kernelspec": {
   "display_name": "Python 3 (ipykernel)",
   "language": "python",
   "name": "python3"
  },
  "language_info": {
   "codemirror_mode": {
    "name": "ipython",
    "version": 3
   },
   "file_extension": ".py",
   "mimetype": "text/x-python",
   "name": "python",
   "nbconvert_exporter": "python",
   "pygments_lexer": "ipython3",
   "version": "3.10.8"
  }
 },
 "nbformat": 4,
 "nbformat_minor": 4
}
